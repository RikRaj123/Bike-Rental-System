{
  "nbformat": 4,
  "nbformat_minor": 0,
  "metadata": {
    "colab": {
      "provenance": []
    },
    "kernelspec": {
      "name": "python3",
      "display_name": "Python 3"
    },
    "language_info": {
      "name": "python"
    }
  },
  "cells": [
    {
      "cell_type": "code",
      "execution_count": 140,
      "metadata": {
        "id": "SDRF7WJdNgsr"
      },
      "outputs": [],
      "source": [
        "import pandas as pd\n",
        "import numpy as np\n",
        "from datetime import datetime\n",
        "bike_name=[\"Kawasaki_Ninja_3000\",\"Honda_SB_Shine\",\"Royal_Enfield\",\"Activa_6G\"]\n",
        "bike_rating=[10,5,8,4]\n",
        "bike_milage=[10,100,20,60]\n",
        "bike_stock=[1,4,2,5]\n",
        "bikedata={\"bike_name\":bike_name,\"bike_milage\":bike_milage,\"bike_stock\":bike_stock,\"bike_rating\":bike_rating}\n",
        "stock = pd.DataFrame(bikedata)"
      ]
    },
    {
      "cell_type": "code",
      "source": [
        "package_name=[\"HOURS\",\"DAY\",\"WEEK\",\"MONTH\"]\n",
        "package_price=[50,100,700,2500]\n",
        "package_return=[1,24,24*7,24*7*30]\n",
        "packagedata={\"package_name\":package_name,\"package_price\":package_price,\"package_return\":package_return}\n",
        "packages = pd.DataFrame(packagedata)\n",
        "def package():\n",
        "  print(packages)\n",
        "  package_ID=int(input(\"Select a Package and ENTER PackageID : \"))\n",
        "  return package_ID"
      ],
      "metadata": {
        "id": "of66E6H9Nqu0"
      },
      "execution_count": 124,
      "outputs": []
    },
    {
      "cell_type": "code",
      "source": [
        "def bill(Book_ID,Package_ID):\n",
        "  name= input(\"Enter Your Name : \")\n",
        "  Phn = input(\"Enter Your Phone no. : \")\n",
        "  if(Package_ID==0):\n",
        "      freq = int(input(\"No. of hours required : \"))\n",
        "  else:\n",
        "      freq = int(input(\"No of days required : \"))\n",
        "\n",
        "  Rentalcost = (packages.at[Book_ID,'package_price']*freq)\n",
        "  security_deposit = (2000*stock.at[Book_ID,'bike_rating'])\n",
        "\n",
        "  print(\"\\n\\n\\nNAME : \",name,\"\\nContact :\",Phn,\"\\nBike : \",stock.at[Book_ID,'bike_name'], \"\\nPackage : \" ,packages.at[Package_ID,'package_name'])\n",
        "  print(\"DATE : \", datetime.now() , \"\\nRental cost : \", Rentalcost ,\"\\nsecurity_deposit : \", security_deposit , '\\ngst :', 0.05*Rentalcost,'\\nTotal Bill', Rentalcost+0.05*Rentalcost+security_deposit)"
      ],
      "metadata": {
        "id": "gOuoPs_nnQqe"
      },
      "execution_count": 137,
      "outputs": []
    },
    {
      "cell_type": "code",
      "source": [
        "def updateStock(book):\n",
        "  stock.at[book,'bike_stock']=stock.at[book,'bike_stock']-1"
      ],
      "metadata": {
        "id": "V2qs1VZeRtGv"
      },
      "execution_count": 126,
      "outputs": []
    },
    {
      "cell_type": "code",
      "source": [
        "def booking():\n",
        "  print(stock)\n",
        "  book = int(input(\"bike ID : \"))\n",
        "  if (stock.at[book,'bike_stock']!=0):\n",
        "    bill(book,package())\n",
        "    updateStock(book)\n",
        "  else:\n",
        "    print(\"Not Available\")"
      ],
      "metadata": {
        "id": "awVECBpuIxAV"
      },
      "execution_count": 127,
      "outputs": []
    },
    {
      "cell_type": "code",
      "source": [
        "booking()"
      ],
      "metadata": {
        "colab": {
          "base_uri": "https://localhost:8080/"
        },
        "id": "zDV7RrJMT6xO",
        "outputId": "b9d1bbb4-e5ef-4d80-e2f9-32fe09f1a90c"
      },
      "execution_count": 139,
      "outputs": [
        {
          "output_type": "stream",
          "name": "stdout",
          "text": [
            "             bike_name  bike_milage  bike_stock  bike_rating\n",
            "0  Kawasaki_Ninja_3000           10           0           10\n",
            "1       Honda_SB_Shine          100           4            5\n",
            "2        Royal_Enfield           20           2            8\n",
            "3            Activa_6G           60           5            4\n",
            "bike ID : 1\n",
            "  package_name  package_price  package_return\n",
            "0        HOURS             50               1\n",
            "1          DAY            100              24\n",
            "2         WEEK            700             168\n",
            "3        MONTH           2500            5040\n",
            "Select a Package and ENTER PackageID : 3\n",
            "Enter Your Name : re\n",
            "Enter Your Phone no. : 123\n",
            "No of days required : 3\n",
            "\n",
            "\n",
            "\n",
            "NAME :  re \n",
            "Contact : 123 \n",
            "Bike :  Honda_SB_Shine \n",
            "Package :  MONTH\n",
            "DATE :  2023-09-03 16:10:11.877977 \n",
            "Rental cost :  300 \n",
            "security_deposit :  10000 \n",
            "gst : 15.0 \n",
            "Total Bill 10315.0\n"
          ]
        }
      ]
    }
  ]
}